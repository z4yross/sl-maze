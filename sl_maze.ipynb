{
 "cells": [
  {
   "cell_type": "code",
   "execution_count": 172,
   "metadata": {},
   "outputs": [],
   "source": [
    "from selenium import webdriver\n",
    "from selenium.webdriver import ActionChains\n",
    "import  time\n",
    "\n",
    "# Ubicacion del driver e inicializacion del driver\n",
    "chromedriver = \"C:/chromedriver/chromedriver.exe\"\n",
    "driver = webdriver.Chrome(executable_path=r'C:/chromedriver/chromedriver.exe')\n",
    "\n",
    "# Inicializar actionChains que controla las interacciones como el mouse\n",
    "actionChains = ActionChains(driver)\n",
    "\n",
    "# Indicar que pagina se desea abrir\n",
    "driver.get('https://www.juegosinfantilespum.com/laberintos-online/12-auto-buhos.php')\n",
    "\n",
    "# Esperar a que cargue la pagina y buscar el canvas donde se encuentra el juego\n",
    "time.sleep(5)\n",
    "canvas = driver.find_element_by_id(\"canvas\")\n",
    "\n",
    "# Mover el mouse a la posicion del canvas y dar click, esto es suficiente para iniciar el juego\n",
    "actionChains.move_to_element(canvas).click(canvas).perform()\n",
    "time.sleep(1)\n",
    "\n",
    "# Guardar las los objetos del juego en objts. la funcion execute_script ejecuta un script de\n",
    "# JavaScript como si fuera la consola de chrome.\n",
    "# El objeto que contiene toda la informacion del nivel en el juego es exportRoot, el problema\n",
    "# es que no se puede utilizar directamente ya que es recursivo e infinito, existen librerias y \n",
    "# algoritmos para solucionar eso, pero ya que solo es necesario recoger algunos datos de todo\n",
    "# el objeto, se me hace mas sencillo con un loop.\n",
    "# Este script retorna el diccionario res y se traduce automaticamente a un diccionario en python.\n",
    "objts = (driver.execute_script('''\n",
    "\tlet rs = exportRoot.children;\n",
    "\tlet res = {\n",
    "\t\t'obst' : []\n",
    "\t};\n",
    "\n",
    "\tfor(let i = 1; i < rs.length; i++){\n",
    "\t\tconsole.log(rs[i].name);\n",
    "\t\tif(rs[i].name == 'personaje'){\n",
    "\t\t\tres['player'] = [rs[i].x, rs[i].y];\n",
    "\t\t}\n",
    "        if(rs[i].name == 'puerta'){\n",
    "\t\t\tres['finish'] = [rs[i].x, rs[i].y];\n",
    "\t\t}\n",
    "\t\telse if(rs[i].name != null && rs[i].name.charAt(0) == \"o\"){\n",
    " \t\t\tres['obst'].push([rs[i].x, rs[i].y]);\n",
    "\t\t}\n",
    "\t\telse if(rs[i].name == 'pared'){\n",
    " \t\t\tres['wall'] = rs[i].children[0].graphics._instructions\n",
    "\t\t}\n",
    "\t}\n",
    "\n",
    "\treturn res;\n",
    "'''))"
   ]
  },
  {
   "cell_type": "code",
   "execution_count": 173,
   "metadata": {},
   "outputs": [],
   "source": [
    "# En el juego las paredes estan dentro de walls, estas estan dibujadas en varias partes\n",
    "# siguiendo el orden:\n",
    "# Paredes exteriores (el cuadro del canvas) -> paredes exteriores del laberinto -> muros dentro del laberinto.\n",
    "# Conociendo este orden, a las paredes exteriores del laberinto se les asigna el color blanco para que posteriormente\n",
    "# se pueda distinguir el camino que se puede tomar del que no, esto se guarda en prc_walls.\n",
    "# temp_cdr es una variable auxiliar para guardar las coordenadas que forma algun grupo de paredes.\n",
    "\n",
    "prc_walls = []\n",
    "i = -1\n",
    "temp_cdr = []\n",
    "for pr in objts['wall']:\n",
    "    if 'bitmap' not in pr.keys():\n",
    "        if 'x' in pr.keys() and 'y' in pr.keys():\n",
    "            temp_cdr.append([pr['x'], pr['y']])\n",
    "        else:\n",
    "            if i >= 0:\n",
    "                # Aca se guardan las coordenadas que forman las paredes y el color asignado.\n",
    "                prc_walls.append({'coords': temp_cdr, 'color': i == 1})\n",
    "                temp_cdr = []\n",
    "            i += 1\n",
    "objts['wall'] = prc_walls"
   ]
  },
  {
   "cell_type": "code",
   "execution_count": 174,
   "metadata": {},
   "outputs": [],
   "source": [
    "# Guardar el diccionario como json en ./data/data.json\n",
    "import json\n",
    "with open('data/data.json', 'w') as fp:\n",
    "    json.dump(objts, fp)"
   ]
  },
  {
   "cell_type": "code",
   "execution_count": 175,
   "metadata": {},
   "outputs": [
    {
     "data": {
      "text/plain": [
       "0"
      ]
     },
     "execution_count": 175,
     "metadata": {},
     "output_type": "execute_result"
    }
   ],
   "source": [
    "# Ejecuta un sketch en processing que dibuja el mapa almacenado data.json y crea una imagen del mismo\n",
    "# a blanco y negro en ./maze.jpg. (Esto puede hacerse en python directamente, pero estoy mas familiarizado\n",
    "# con processing para este tipo de cosas).\n",
    "\n",
    "import os\n",
    "os.system(\"processing-java --sketch=%cd%/proc_img --run\")"
   ]
  },
  {
   "cell_type": "code",
   "execution_count": 183,
   "metadata": {},
   "outputs": [
    {
     "name": "stdout",
     "output_type": "stream",
     "text": [
      "367 730\n",
      "[0. 1.] [ 81754 186156]\n"
     ]
    }
   ],
   "source": [
    "# Abre la imagen creada previamente con la libreria PIL y la convierte en una matriz n*m de 1 y 0. Esto es\n",
    "# debido a que PIL crea una matriz n*m*3 donde la ultima dimension son los 3 canales de color rgb.\n",
    "\n",
    "from PIL import Image, ImageOps\n",
    "import numpy as np\n",
    "\n",
    "im = Image.open('maze.png')\n",
    "\n",
    "# print(len(pix))\n",
    "# pix = pix.T[0].T\n",
    "# im.thumbnail(im.size/38,Image.ANTIALIAS)\n",
    "\n",
    "gray = im.convert('L')\n",
    "bw = np.asarray(gray).copy()\n",
    "bw[bw < 128] = 0 \n",
    "bw[bw >= 128] = 255 \n",
    "im = Image.fromarray(bw)\n",
    "im = im.convert(\"RGBA\")\n",
    "\n",
    "pixdata = im.load()\n",
    "\n",
    "width, height = im.size\n",
    "for y in range(height):\n",
    "    for x in range(width):\n",
    "        if pixdata[x, y] == (255, 255, 255, 255):\n",
    "            pixdata[x, y] = (255, 255, 255, 0)\n",
    "\n",
    "pix = np.array(im)\n",
    "\n",
    "fn = np.zeros(shape=(len(pix),len(pix[0])))\n",
    "print(len(fn),len(fn[0]))\n",
    "\n",
    "for i, x in enumerate(pix):\n",
    "    for j, y in enumerate(x):\n",
    "        fn[i][j] = 1 if np.sum(y) > 255*3/2 else 0\n",
    "\n",
    "unique, count = np.unique(fn, return_counts = True) \n",
    "print(unique, count)"
   ]
  },
  {
   "cell_type": "code",
   "execution_count": 177,
   "metadata": {},
   "outputs": [],
   "source": [
    "def mp(value, start1, stop1, start2, stop2):\n",
    "    return start2 + (stop2 - start2) * ((value - start1) / (stop1 - start1))"
   ]
  },
  {
   "cell_type": "code",
   "execution_count": 184,
   "metadata": {},
   "outputs": [],
   "source": [
    "# En la matriz creada previamente, se mete al jugador como un 2 y a la casa como un 3.\n",
    "\n",
    "objetos = fn\n",
    "coords_plyr = objts['player']\n",
    "# print(coords_plyr)\n",
    "coords_fnsh = objts['finish']\n",
    "objetos[int(coords_plyr[1])][int(coords_plyr[0])] = 2\n",
    "objetos[int(coords_fnsh[1])][int(coords_fnsh[0])] = 3\n",
    "\n",
    "# print(objetos, int(mp(coords_fnsh[1], 0, 367, 0, 10)))\n",
    "\n",
    "# Finalmente se guarda la matriz en ./data/out.txt\n",
    "np.savetxt(\"data/out.txt\", objetos, fmt=\"%d\")"
   ]
  },
  {
   "cell_type": "code",
   "execution_count": 36,
   "metadata": {},
   "outputs": [
    {
     "name": "stdout",
     "output_type": "stream",
     "text": [
      "90.0 180.0 270.0 270.0 0.0 0.0\n"
     ]
    },
    {
     "data": {
      "text/plain": [
       "'aaaaaaaaaaaaaaaaaaaaaaaaaaaaaa'"
      ]
     },
     "execution_count": 36,
     "metadata": {},
     "output_type": "execute_result"
    }
   ],
   "source": [
    "import numpy as np\n",
    "from math import pi, sin, cos\n",
    "\n",
    "\n",
    "\n",
    "\n",
    "'a' * 30"
   ]
  }
 ],
 "metadata": {
  "kernelspec": {
   "display_name": "Python 3",
   "language": "python",
   "name": "python3"
  },
  "language_info": {
   "codemirror_mode": {
    "name": "ipython",
    "version": 3
   },
   "file_extension": ".py",
   "mimetype": "text/x-python",
   "name": "python",
   "nbconvert_exporter": "python",
   "pygments_lexer": "ipython3",
   "version": "3.7.4"
  }
 },
 "nbformat": 4,
 "nbformat_minor": 4
}
