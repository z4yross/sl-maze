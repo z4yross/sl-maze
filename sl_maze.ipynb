{
 "cells": [
  {
   "cell_type": "code",
   "execution_count": 76,
   "metadata": {},
   "outputs": [],
   "source": [
    "from selenium import webdriver\n",
    "from selenium.webdriver import ActionChains\n",
    "import  time\n",
    "\n",
    "chromedriver = \"C:/chromedriver/chromedriver.exe\"\n",
    "driver = webdriver.Chrome(executable_path=r'C:/chromedriver/chromedriver.exe') # to open the chromebrowser \n",
    "actionChains = ActionChains(driver)\n",
    "\n",
    "# driver.get(\"https://web.whatsapp.com\")\n",
    "driver.get('https://www.juegosinfantilespum.com/laberintos-online/12-auto-buhos.php')\n",
    "\n",
    "time.sleep(5)\n",
    "play_coords = (float(driver.execute_script(\"return exportRoot.children[3].x\")), float(driver.execute_script(\"return exportRoot.children[3].y\")))\n",
    "\n",
    "canvas = driver.find_element_by_id(\"canvas\")\n",
    "actionChains.move_to_element(canvas).click(canvas).perform()\n",
    "\n",
    "time.sleep(1)\n",
    "objts = (driver.execute_script('''\n",
    "\tlet rs = exportRoot.children;\n",
    "\tlet res = {\n",
    "\t\t'obst' : []\n",
    "\t};\n",
    "\n",
    "\tfor(let i = 1; i < rs.length; i++){\n",
    "\t\tconsole.log(rs[i].name);\n",
    "\t\tif(rs[i].name == 'personaje'){\n",
    "\t\t\tres['player'] = [rs[i].x, rs[i].y];\n",
    "\t\t}\n",
    "        if(rs[i].name == 'puerta'){\n",
    "\t\t\tres['finish'] = [rs[i].x, rs[i].y];\n",
    "\t\t}\n",
    "\t\telse if(rs[i].name != null && rs[i].name.charAt(0) == \"o\"){\n",
    " \t\t\tres['obst'].push([rs[i].x, rs[i].y]);\n",
    "\t\t}\n",
    "\t\telse if(rs[i].name == 'pared'){\n",
    " \t\t\tres['wall'] = rs[i].children[0].graphics._instructions\n",
    "\t\t}\n",
    "\t}\n",
    "\n",
    "\treturn res;\n",
    "'''))"
   ]
  },
  {
   "cell_type": "code",
   "execution_count": 78,
   "metadata": {},
   "outputs": [],
   "source": [
    "prc_walls = []\n",
    "i = -1\n",
    "temp_cdr = []\n",
    "for pr in objts['wall']:\n",
    "    if 'bitmap' not in pr.keys():\n",
    "        if 'x' in pr.keys() and 'y' in pr.keys():\n",
    "            temp_cdr.append([pr['x'], pr['y']])\n",
    "        else:\n",
    "            if i >= 0:\n",
    "                prc_walls.append({'coords': temp_cdr, 'color': i == 1})\n",
    "                temp_cdr = []\n",
    "            i += 1\n",
    "objts['wall'] = prc_walls"
   ]
  },
  {
   "cell_type": "code",
   "execution_count": 79,
   "metadata": {},
   "outputs": [],
   "source": [
    "import json\n",
    "with open('data/data.json', 'w') as fp:\n",
    "    json.dump(objts, fp)"
   ]
  },
  {
   "cell_type": "code",
   "execution_count": 80,
   "metadata": {},
   "outputs": [
    {
     "data": {
      "text/plain": [
       "0"
      ]
     },
     "execution_count": 80,
     "metadata": {},
     "output_type": "execute_result"
    }
   ],
   "source": [
    "import os\n",
    "os.system(\"processing-java --sketch=%cd%/proc_img --run\")"
   ]
  },
  {
   "cell_type": "code",
   "execution_count": 112,
   "metadata": {},
   "outputs": [
    {
     "name": "stdout",
     "output_type": "stream",
     "text": [
      "367 730\n",
      "[0. 1.] [181367  86543]\n"
     ]
    }
   ],
   "source": [
    "from PIL import Image\n",
    "import numpy as np\n",
    "\n",
    "im = Image.open('maze.jpg')\n",
    "pix = np.array(im).T[0]\n",
    "pix = pix.T\n",
    "\n",
    "fn = np.zeros(shape=(len(pix),len(pix[0])))\n",
    "print(len(fn),len(fn[0]))\n",
    "\n",
    "for i, x in enumerate(pix):\n",
    "    for j, y in enumerate(x):\n",
    "        fn[i][j] = 1 if y > 255/2 else 0\n",
    "\n",
    "unique, count = np.unique(fn, return_counts = True) \n",
    "print(unique, count)"
   ]
  },
  {
   "cell_type": "code",
   "execution_count": 113,
   "metadata": {},
   "outputs": [],
   "source": [
    "objetos = fn\n",
    "coords_plyr = objts['player']\n",
    "coords_fnsh = objts['finish']\n",
    "objetos[int(coords_plyr[1])][int(coords_plyr[0])] = 2\n",
    "objetos[int(coords_fnsh[1])][int(coords_fnsh[0])] = 3\n",
    "\n",
    "objetos\n",
    "# with open('data/out.txt', 'wb') as f:\n",
    "#     for line in objetos:\n",
    "#         np.savetxt(f, line, fmt='%.2f')\n",
    "np.savetxt(\"data/out.txt\", objetos, fmt=\"%d\")"
   ]
  }
 ],
 "metadata": {
  "kernelspec": {
   "display_name": "Python 3",
   "language": "python",
   "name": "python3"
  },
  "language_info": {
   "codemirror_mode": {
    "name": "ipython",
    "version": 3
   },
   "file_extension": ".py",
   "mimetype": "text/x-python",
   "name": "python",
   "nbconvert_exporter": "python",
   "pygments_lexer": "ipython3",
   "version": "3.7.4"
  }
 },
 "nbformat": 4,
 "nbformat_minor": 4
}
